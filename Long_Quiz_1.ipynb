{
  "nbformat": 4,
  "nbformat_minor": 0,
  "metadata": {
    "colab": {
      "provenance": [],
      "authorship_tag": "ABX9TyM+C8FAtDMXn+GcXQrzmpjF",
      "include_colab_link": true
    },
    "kernelspec": {
      "name": "python3",
      "display_name": "Python 3"
    },
    "language_info": {
      "name": "python"
    }
  },
  "cells": [
    {
      "cell_type": "markdown",
      "metadata": {
        "id": "view-in-github",
        "colab_type": "text"
      },
      "source": [
        "<a href=\"https://colab.research.google.com/github/ChristopherGepila/58009-DSAA/blob/main/Long_Quiz_1.ipynb\" target=\"_parent\"><img src=\"https://colab.research.google.com/assets/colab-badge.svg\" alt=\"Open In Colab\"/></a>"
      ]
    },
    {
      "cell_type": "code",
      "source": [
        "name = \"\"\n",
        "while True:\n",
        "    letter = input(\"Enter a letter of your name: \")\n",
        "    if letter == \"\":\n",
        "        break\n",
        "    name += letter\n",
        "\n",
        "r_name_chars = []\n",
        "\n",
        "for char in name:\n",
        "    r_name_chars.append(char)\n",
        "\n",
        "for char in reversed(r_name_chars):\n",
        "    print(char)\n",
        "\n",
        "r_name = ''.join(reversed(r_name_chars))\n",
        "\n",
        "print(\"\\nOriginal Name: \", name)\n",
        "print(\"Reversed Name: \", r_name)\n"
      ],
      "metadata": {
        "colab": {
          "base_uri": "https://localhost:8080/"
        },
        "id": "OW3Zh_EzCVCz",
        "outputId": "af8d646b-e534-4240-ed46-7a8ce049235c"
      },
      "execution_count": 1,
      "outputs": [
        {
          "output_type": "stream",
          "name": "stdout",
          "text": [
            "Enter a letter of your name: C\n",
            "Enter a letter of your name: H\n",
            "Enter a letter of your name: R\n",
            "Enter a letter of your name: I\n",
            "Enter a letter of your name: S\n",
            "Enter a letter of your name: T\n",
            "Enter a letter of your name: O\n",
            "Enter a letter of your name: P\n",
            "Enter a letter of your name: H\n",
            "Enter a letter of your name: E\n",
            "Enter a letter of your name: R\n",
            "Enter a letter of your name:  \n",
            "Enter a letter of your name: H\n",
            "Enter a letter of your name:  \n",
            "Enter a letter of your name: G\n",
            "Enter a letter of your name: E\n",
            "Enter a letter of your name: P\n",
            "Enter a letter of your name: I\n",
            "Enter a letter of your name: L\n",
            "Enter a letter of your name: A\n",
            "Enter a letter of your name: \n",
            "A\n",
            "L\n",
            "I\n",
            "P\n",
            "E\n",
            "G\n",
            " \n",
            "H\n",
            " \n",
            "R\n",
            "E\n",
            "H\n",
            "P\n",
            "O\n",
            "T\n",
            "S\n",
            "I\n",
            "R\n",
            "H\n",
            "C\n",
            "\n",
            "Original Name:  CHRISTOPHER H GEPILA\n",
            "Reversed Name:  ALIPEG H REHPOTSIRHC\n"
          ]
        }
      ]
    },
    {
      "cell_type": "code",
      "source": [
        "class Node:\n",
        "    def __init__(self, data):\n",
        "        self.data = data\n",
        "        self.next = None\n",
        "\n",
        "class LinkedList:\n",
        "    def __init__(self):\n",
        "        self.head = None\n",
        "        self.tail = None\n",
        "\n",
        "    def append(self, data):\n",
        "        new_node = Node(data)\n",
        "        if self.head is None:\n",
        "            self.head = new_node\n",
        "            self.tail = new_node\n",
        "        else:\n",
        "            self.tail.next = new_node\n",
        "            self.tail = new_node\n",
        "\n",
        "def is_prime(n):\n",
        "    if n <= 1:\n",
        "        return False\n",
        "    if n <= 3:\n",
        "        return True\n",
        "    if n % 2 == 0 or n % 3 == 0:\n",
        "        return False\n",
        "    i = 5\n",
        "    while i * i <= n:\n",
        "        if n % i == 0 or n % (i + 2) == 0:\n",
        "            return False\n",
        "        i += 6\n",
        "    return True\n",
        "\n",
        "def is_composite(n):\n",
        "    return not is_prime(n)\n",
        "\n",
        "prime_list = LinkedList()\n",
        "composite_list = LinkedList()\n",
        "\n",
        "for num in range(1, 11):\n",
        "    if is_prime(num):\n",
        "        prime_list.append(num)\n",
        "    elif is_composite(num):\n",
        "        composite_list.append(num)\n",
        "\n",
        "prime_array = []\n",
        "current = prime_list.head\n",
        "while current:\n",
        "    prime_array.append(current.data)\n",
        "    current = current.next\n",
        "\n",
        "composite_array = []\n",
        "current = composite_list.head\n",
        "while current:\n",
        "    composite_array.append(current.data)\n",
        "    current = current.next\n",
        "\n",
        "print(\"Prime Numbers:\", prime_array)\n",
        "print(\"Composite Numbers:\", composite_array)\n"
      ],
      "metadata": {
        "colab": {
          "base_uri": "https://localhost:8080/"
        },
        "id": "XG_n3iQbHGnh",
        "outputId": "b1d8f022-bda6-41dc-dd2a-67f9feebb4aa"
      },
      "execution_count": 8,
      "outputs": [
        {
          "output_type": "stream",
          "name": "stdout",
          "text": [
            "Prime Numbers: [2, 3, 5, 7]\n",
            "Composite Numbers: [1, 4, 6, 8, 9, 10]\n"
          ]
        }
      ]
    }
  ]
}