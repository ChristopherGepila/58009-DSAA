{
  "nbformat": 4,
  "nbformat_minor": 0,
  "metadata": {
    "colab": {
      "provenance": [],
      "authorship_tag": "ABX9TyMI2lw+NHcp2GsW570IXzyM",
      "include_colab_link": true
    },
    "kernelspec": {
      "name": "python3",
      "display_name": "Python 3"
    },
    "language_info": {
      "name": "python"
    }
  },
  "cells": [
    {
      "cell_type": "markdown",
      "metadata": {
        "id": "view-in-github",
        "colab_type": "text"
      },
      "source": [
        "<a href=\"https://colab.research.google.com/github/ChristopherGepila/58009-DSAA/blob/main/ARRAYS(LECTURE).ipynb\" target=\"_parent\"><img src=\"https://colab.research.google.com/assets/colab-badge.svg\" alt=\"Open In Colab\"/></a>"
      ]
    },
    {
      "cell_type": "markdown",
      "source": [
        "Accessing the Elements in the Array"
      ],
      "metadata": {
        "id": "QhxS7im3YknK"
      }
    },
    {
      "cell_type": "code",
      "execution_count": 9,
      "metadata": {
        "colab": {
          "base_uri": "https://localhost:8080/"
        },
        "id": "0y9bLtGSXH4i",
        "outputId": "1760efb3-b59f-4b4e-8fb5-a76cdedaacc7"
      },
      "outputs": [
        {
          "output_type": "stream",
          "name": "stdout",
          "text": [
            "cat\n"
          ]
        }
      ],
      "source": [
        "animals = [ \"cat\", \"dog\", \"fish\"]\n",
        "x= animals[0]\n",
        "print(x)"
      ]
    },
    {
      "cell_type": "markdown",
      "source": [
        "Modifying the Elements in the Array"
      ],
      "metadata": {
        "id": "8TSvm79JYgyS"
      }
    },
    {
      "cell_type": "code",
      "source": [
        "animals = [\"cat\", \"dog\", \"fish\"]\n",
        "animals[0] = \"monkey\"\n",
        "print(animals)"
      ],
      "metadata": {
        "colab": {
          "base_uri": "https://localhost:8080/"
        },
        "id": "WpFeGhwQXuwq",
        "outputId": "8ea2de87-9957-4b7e-92ca-e82bd89c1362"
      },
      "execution_count": 2,
      "outputs": [
        {
          "output_type": "stream",
          "name": "stdout",
          "text": [
            "['monkey', 'dog', 'fish']\n"
          ]
        }
      ]
    },
    {
      "cell_type": "markdown",
      "source": [
        "Length of an Array"
      ],
      "metadata": {
        "id": "00aUJK8XYZ1y"
      }
    },
    {
      "cell_type": "code",
      "source": [
        "animals = [\"cat\", \"dog\", \"fish\"]\n",
        "x = len(animals)\n",
        "print(x)"
      ],
      "metadata": {
        "colab": {
          "base_uri": "https://localhost:8080/"
        },
        "id": "hKH4j6pGYKVH",
        "outputId": "f77d0bf5-c69c-46b9-edca-dc87acdfddfb"
      },
      "execution_count": 10,
      "outputs": [
        {
          "output_type": "stream",
          "name": "stdout",
          "text": [
            "3\n"
          ]
        }
      ]
    },
    {
      "cell_type": "markdown",
      "source": [
        "Looping Array Elements"
      ],
      "metadata": {
        "id": "3gQrPnsaY3gX"
      }
    },
    {
      "cell_type": "code",
      "source": [
        "animals = [\"cat\", \"dog\", \"fish\"]\n",
        "for x in animals:\n",
        "  print(x)"
      ],
      "metadata": {
        "colab": {
          "base_uri": "https://localhost:8080/"
        },
        "id": "VYstWaPaYoGw",
        "outputId": "3915ac0f-08a0-4fb0-971e-655b3de009ad"
      },
      "execution_count": 11,
      "outputs": [
        {
          "output_type": "stream",
          "name": "stdout",
          "text": [
            "cat\n",
            "dog\n",
            "fish\n"
          ]
        }
      ]
    },
    {
      "cell_type": "markdown",
      "source": [
        "Adding Elements in the Array"
      ],
      "metadata": {
        "id": "TgwwEgo3ZPyW"
      }
    },
    {
      "cell_type": "code",
      "source": [
        "animals = [\"cat\", \"dog\", \"fish\" ]\n",
        "animals.append(\"monkey\")\n",
        "print(animals)"
      ],
      "metadata": {
        "colab": {
          "base_uri": "https://localhost:8080/"
        },
        "id": "mVxfZQP6Y66P",
        "outputId": "755734d2-c9a7-422e-a2cb-ee4da3107dd9"
      },
      "execution_count": 12,
      "outputs": [
        {
          "output_type": "stream",
          "name": "stdout",
          "text": [
            "['cat', 'dog', 'fish', 'monkey']\n"
          ]
        }
      ]
    },
    {
      "cell_type": "markdown",
      "source": [
        "Removing an Element in the Array"
      ],
      "metadata": {
        "id": "uFgvKNS8Z4m7"
      }
    },
    {
      "cell_type": "code",
      "source": [
        "animals = [\"cat\", \"dog\", \"fish\"]\n",
        "animals.pop(1)\n",
        "print(animals)"
      ],
      "metadata": {
        "colab": {
          "base_uri": "https://localhost:8080/"
        },
        "id": "Vt9jA-VkZSr2",
        "outputId": "b5154972-d5fe-477a-f86f-53675485339e"
      },
      "execution_count": 14,
      "outputs": [
        {
          "output_type": "stream",
          "name": "stdout",
          "text": [
            "['cat', 'fish']\n"
          ]
        }
      ]
    },
    {
      "cell_type": "markdown",
      "source": [
        "Sorting an Element in the Array"
      ],
      "metadata": {
        "id": "-v4PhbK5bIkJ"
      }
    },
    {
      "cell_type": "code",
      "source": [
        "animals = [\"cat\", \"dog\", \"fish\"]\n",
        "animals.reverse()\n",
        "print(animals)"
      ],
      "metadata": {
        "colab": {
          "base_uri": "https://localhost:8080/"
        },
        "id": "4zo5BcCDbMJw",
        "outputId": "9cd6f654-bea8-4c5d-f99c-2b10b21f1a4f"
      },
      "execution_count": 16,
      "outputs": [
        {
          "output_type": "stream",
          "name": "stdout",
          "text": [
            "['fish', 'dog', 'cat']\n"
          ]
        }
      ]
    }
  ]
}