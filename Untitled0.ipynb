{
  "nbformat": 4,
  "nbformat_minor": 0,
  "metadata": {
    "colab": {
      "provenance": [],
      "authorship_tag": "ABX9TyMIFgD8i7N+xtGotuanVo3u",
      "include_colab_link": true
    },
    "kernelspec": {
      "name": "python3",
      "display_name": "Python 3"
    },
    "language_info": {
      "name": "python"
    }
  },
  "cells": [
    {
      "cell_type": "markdown",
      "metadata": {
        "id": "view-in-github",
        "colab_type": "text"
      },
      "source": [
        "<a href=\"https://colab.research.google.com/github/ChristopherGepila/58009-DSAA/blob/main/Untitled0.ipynb\" target=\"_parent\"><img src=\"https://colab.research.google.com/assets/colab-badge.svg\" alt=\"Open In Colab\"/></a>"
      ]
    },
    {
      "cell_type": "code",
      "execution_count": 4,
      "metadata": {
        "colab": {
          "base_uri": "https://localhost:8080/",
          "height": 35
        },
        "id": "bDyC_3jUsEki",
        "outputId": "0bdbe212-b0fa-48d5-8e91-91b8aaf04e49"
      },
      "outputs": [
        {
          "output_type": "execute_result",
          "data": {
            "text/plain": [
              "'f'"
            ],
            "application/vnd.google.colaboratory.intrinsic+json": {
              "type": "string"
            }
          },
          "metadata": {},
          "execution_count": 4
        }
      ],
      "source": [
        "import array\n",
        "array.typecodes #get all typecodes\n",
        "a = array.array('i',[1,2,3,4,5,6]) #initializing array a\n",
        "b = array.array('f',[1,5,2,5,3,5,4,5,5,5,6]) #initializing array b\n",
        "a.typecode #getting the typeecode of a\n",
        "b.typecode #getting the typecode of b"
      ]
    },
    {
      "cell_type": "code",
      "source": [
        "from array import array #importing array fro array module\n",
        "a = array('i',[4,5,6,7]) #initializing array\n",
        "a.insert(1,2) #inserting element: 2 at index 1\n",
        "a #printing array a\n",
        "array('i', [4, 2, 5, 6, 7])\n",
        "a.insert(-1,0) # insert element: 0 at index: -1\n",
        "a\n",
        "a.insert(10, -1) # insert element: -1 at index: 10, this is out of range\n",
        "array('i',[4, 2, 5, 6, 0, 7, -1])"
      ],
      "metadata": {
        "colab": {
          "base_uri": "https://localhost:8080/"
        },
        "id": "YPxSdba5vHNr",
        "outputId": "f9745dba-81f5-487d-da4a-a1c241fbc08a"
      },
      "execution_count": 6,
      "outputs": [
        {
          "output_type": "execute_result",
          "data": {
            "text/plain": [
              "array('i', [4, 2, 5, 6, 0, 7, -1])"
            ]
          },
          "metadata": {},
          "execution_count": 6
        }
      ]
    },
    {
      "cell_type": "code",
      "source": [
        "# Node class\n",
        "class Node:\n",
        "  def __init__(self,data):\n",
        "    self.data = data\n",
        "    self.next = None\n",
        "    self.prev = None\n",
        "\n",
        "\n",
        "class LinkedList:\n",
        "  def __init__(self):\n",
        "    self.head = None\n",
        "    self.tail = None\n",
        "\n",
        "  def printlist(self):\n",
        "    temp = self.head\n",
        "    while(temp):\n",
        "      print(temp.data)\n",
        "      temp = temp.next\n",
        "\n",
        "\n",
        "\n",
        "if __name__=='__main__':\n",
        "  llist = LinkedList()\n",
        "\n",
        "  llist.head = Node(1)\n",
        "  second = Node(2)\n",
        "  third = Node(3)\n",
        "  llist.head.next = second;\n",
        "  second.next = third;\n",
        "\n",
        "llist.printlist()\n"
      ],
      "metadata": {
        "colab": {
          "base_uri": "https://localhost:8080/"
        },
        "id": "ldYPEREGwk2I",
        "outputId": "824c0c1d-21e6-4330-d6be-834d6a0e4a02"
      },
      "execution_count": 23,
      "outputs": [
        {
          "output_type": "stream",
          "name": "stdout",
          "text": [
            "1\n",
            "2\n",
            "3\n"
          ]
        }
      ]
    }
  ]
}