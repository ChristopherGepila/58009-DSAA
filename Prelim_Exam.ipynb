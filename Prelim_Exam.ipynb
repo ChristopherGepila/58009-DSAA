{
  "nbformat": 4,
  "nbformat_minor": 0,
  "metadata": {
    "colab": {
      "provenance": [],
      "authorship_tag": "ABX9TyMXXCN132FqgpKIySVuiUEm",
      "include_colab_link": true
    },
    "kernelspec": {
      "name": "python3",
      "display_name": "Python 3"
    },
    "language_info": {
      "name": "python"
    }
  },
  "cells": [
    {
      "cell_type": "markdown",
      "metadata": {
        "id": "view-in-github",
        "colab_type": "text"
      },
      "source": [
        "<a href=\"https://colab.research.google.com/github/ChristopherGepila/58009-DSAA/blob/main/Prelim_Exam.ipynb\" target=\"_parent\"><img src=\"https://colab.research.google.com/assets/colab-badge.svg\" alt=\"Open In Colab\"/></a>"
      ]
    },
    {
      "cell_type": "markdown",
      "source": [
        "Open your Python (Pycharm or Colab) or Dev C++ to create the source code for adding the test scores 26, 49, 98, 87, 62, 75 (30 points)"
      ],
      "metadata": {
        "id": "fGhZ5smn8ZR-"
      }
    },
    {
      "cell_type": "code",
      "execution_count": 4,
      "metadata": {
        "colab": {
          "base_uri": "https://localhost:8080/"
        },
        "id": "i0cxrt_uzsu2",
        "outputId": "37fec8b6-6459-41c7-afda-763dd3fb2eca"
      },
      "outputs": [
        {
          "output_type": "stream",
          "name": "stdout",
          "text": [
            "Scores:  26\n",
            "Scores:  49\n",
            "Scores:  98\n",
            "Scores:  87\n",
            "Scores:  62\n",
            "Scores:  75\n",
            "The sum is:  397\n"
          ]
        }
      ],
      "source": [
        "integers = [26, 49, 98, 87, 62, 75]\n",
        "\n",
        "for x in integers:\n",
        "  print(\"Scores: \", x)\n",
        "sum = integers[0]+integers[1]+integers[2]+integers[3]+integers[4]+integers[5]\n",
        "\n",
        "print(\"The sum is: \",sum)"
      ]
    },
    {
      "cell_type": "markdown",
      "source": [
        "Create a program to sort the test scores in ascending order (20 points)"
      ],
      "metadata": {
        "id": "Rd9_GtjT9Dli"
      }
    },
    {
      "cell_type": "code",
      "source": [
        "scores = [26, 49, 98, 87, 62, 75]\n",
        "\n",
        "sorted_scores = sorted(scores)\n",
        "\n",
        "print(\"Sorted test scores in ascending order:\")\n",
        "for score in sorted_scores:\n",
        "    print(score)\n"
      ],
      "metadata": {
        "colab": {
          "base_uri": "https://localhost:8080/"
        },
        "id": "cvG11tXN8bvc",
        "outputId": "2baf0097-b475-40f7-86bc-30a12f57b993"
      },
      "execution_count": 6,
      "outputs": [
        {
          "output_type": "stream",
          "name": "stdout",
          "text": [
            "Sorted test scores in ascending order:\n",
            "26\n",
            "49\n",
            "62\n",
            "75\n",
            "87\n",
            "98\n"
          ]
        }
      ]
    }
  ]
}