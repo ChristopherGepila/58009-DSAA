{
  "nbformat": 4,
  "nbformat_minor": 0,
  "metadata": {
    "colab": {
      "provenance": [],
      "authorship_tag": "ABX9TyMIH614UOEjAVY1VEU3Wc6Y",
      "include_colab_link": true
    },
    "kernelspec": {
      "name": "python3",
      "display_name": "Python 3"
    },
    "language_info": {
      "name": "python"
    }
  },
  "cells": [
    {
      "cell_type": "markdown",
      "metadata": {
        "id": "view-in-github",
        "colab_type": "text"
      },
      "source": [
        "<a href=\"https://colab.research.google.com/github/ChristopherGepila/58009-DSAA/blob/main/Queues_Activity_4.ipynb\" target=\"_parent\"><img src=\"https://colab.research.google.com/assets/colab-badge.svg\" alt=\"Open In Colab\"/></a>"
      ]
    },
    {
      "cell_type": "code",
      "execution_count": 15,
      "metadata": {
        "colab": {
          "base_uri": "https://localhost:8080/"
        },
        "id": "FH-F3hWcd1SR",
        "outputId": "cd7e7b1b-1012-4479-a2ba-62ccf2acb094"
      },
      "outputs": [
        {
          "output_type": "stream",
          "name": "stdout",
          "text": [
            "Enter a letter of your name: Christopher\n",
            "['A', 'B', 'C']\n",
            "A\n",
            "['B', 'C']\n"
          ]
        }
      ],
      "source": [
        "queues = []\n",
        "#enqueues itens into queues\n",
        "\n",
        "queues.append('A')\n",
        "queues.append('B')\n",
        "queues.append('C')\n",
        "print(queues)\n",
        "\n",
        "#dequeues item from the list\n",
        "print(queues.pop(0))\n",
        "\n",
        "print(queues)"
      ]
    },
    {
      "cell_type": "code",
      "source": [
        "menu = {\n",
        "    \"Soda\": '$2',\n",
        "    \"Fries\": '$1',\n",
        "    \"Burger\": '$3',\n",
        "    \"Shake\": '$1',\n",
        "    \"Cookie\": '$1',\n",
        "    \"Chicken strips\": '$2',\n",
        "}\n",
        "\n",
        "\n",
        "queues = []\n",
        "\n",
        "\n",
        "def display_prices():\n",
        "    for item in queues:\n",
        "        if item in menu:\n",
        "            price = menu[item]\n",
        "            print(f\"The price of {item} is {price}\")\n",
        "        else:\n",
        "            print(f\"{item} is not in the menu\")\n",
        "    queues.pop()\n",
        "\n",
        "\n",
        "while True:\n",
        "    user_input = input(\"Enter a menu item: \")\n",
        "    if user_input == \"done\":\n",
        "        break\n",
        "    else:\n",
        "        queues.append(user_input)\n",
        "\n",
        "\n",
        "display_prices()\n"
      ],
      "metadata": {
        "colab": {
          "base_uri": "https://localhost:8080/"
        },
        "id": "GFhl9V_iuw9f",
        "outputId": "d10e52c7-539b-44c1-dc79-f546417e5288"
      },
      "execution_count": 13,
      "outputs": [
        {
          "output_type": "stream",
          "name": "stdout",
          "text": [
            "Enter a menu item: Soda\n",
            "Enter a menu item: done\n",
            "The price of Soda is $2\n"
          ]
        }
      ]
    }
  ]
}