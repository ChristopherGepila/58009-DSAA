{
  "nbformat": 4,
  "nbformat_minor": 0,
  "metadata": {
    "colab": {
      "provenance": [],
      "authorship_tag": "ABX9TyPUvAGjRTA37qZ/hWAjDUMb",
      "include_colab_link": true
    },
    "kernelspec": {
      "name": "python3",
      "display_name": "Python 3"
    },
    "language_info": {
      "name": "python"
    }
  },
  "cells": [
    {
      "cell_type": "markdown",
      "metadata": {
        "id": "view-in-github",
        "colab_type": "text"
      },
      "source": [
        "<a href=\"https://colab.research.google.com/github/ChristopherGepila/58009-DSAA/blob/main/Activity_1.ipynb\" target=\"_parent\"><img src=\"https://colab.research.google.com/assets/colab-badge.svg\" alt=\"Open In Colab\"/></a>"
      ]
    },
    {
      "cell_type": "markdown",
      "source": [
        "1. Write a Python program to create an array of 10 integers and display the array items. Access individual elements through indexes and compute for the sum."
      ],
      "metadata": {
        "id": "lanwnwxUfyUD"
      }
    },
    {
      "cell_type": "code",
      "source": [
        "integers = [15,26,53, 54, 59, 69, 77, 88, 99, 10]\n",
        "\n",
        "for x in integers:\n",
        "  print(\"Index\",integers.index(x), \"Num\", x)\n",
        "sum = integers[0]+integers[1]+integers[2]+integers[3]+integers[4]+integers[5]+integers[6]+integers[7]+integers[8]+integers[9]\n",
        "\n",
        "print(\"The sum is: \",sum)\n",
        "\n"
      ],
      "metadata": {
        "colab": {
          "base_uri": "https://localhost:8080/"
        },
        "id": "NNXjChZqf2Mj",
        "outputId": "bf7b9eb2-d4bb-426d-d783-7c15b9349dc5"
      },
      "execution_count": 41,
      "outputs": [
        {
          "output_type": "stream",
          "name": "stdout",
          "text": [
            "Index 0 Num 15\n",
            "Index 1 Num 26\n",
            "Index 2 Num 53\n",
            "Index 3 Num 54\n",
            "Index 4 Num 59\n",
            "Index 5 Num 69\n",
            "Index 6 Num 77\n",
            "Index 7 Num 88\n",
            "Index 8 Num 99\n",
            "Index 9 Num 10\n",
            "The sum is:  550\n"
          ]
        }
      ]
    },
    {
      "cell_type": "markdown",
      "source": [
        "2. Write a Python program to append a new item to the end of the array. Original array: numbers = [1, 2, 3, 4, 5, 6, 7, 8, 9, 10]"
      ],
      "metadata": {
        "id": "M7Vz39pzfuBE"
      }
    },
    {
      "cell_type": "code",
      "execution_count": 2,
      "metadata": {
        "colab": {
          "base_uri": "https://localhost:8080/"
        },
        "id": "zuGpSv_Ve1Zr",
        "outputId": "de3a07c4-c1b4-481e-c474-a01f10d1befe"
      },
      "outputs": [
        {
          "output_type": "stream",
          "name": "stdout",
          "text": [
            "['1', '2', '3', '4', '5', '6', '7', '8', '9', '10', '13']\n"
          ]
        }
      ],
      "source": [
        "integers = [\"1\", \"2\", \"3\", \"4\", \"5\", \"6\", \"7\", \"8\", \"9\", \"10\"]\n",
        "integers.append(\"13\")\n",
        "print(integers)"
      ]
    },
    {
      "cell_type": "markdown",
      "source": [
        "3. Write a Python program to insert a new item before the second element in an existing array. Original array: numbers = [1, 2, 3, 4, 5, 6, 7, 8, 9, 10]"
      ],
      "metadata": {
        "id": "PDX358NLf1jp"
      }
    },
    {
      "cell_type": "code",
      "source": [
        "integers = [\"1\", \"2\", \"3\", \"4\", \"5\", \"6\", \"7\", \"8\", \"9\", \"10\"]\n",
        "integers.insert(1,30)\n",
        "print(integers)"
      ],
      "metadata": {
        "colab": {
          "base_uri": "https://localhost:8080/"
        },
        "id": "2rPbaVxsf9Lj",
        "outputId": "f193113d-3dfa-445d-9447-7767d5acffef"
      },
      "execution_count": 4,
      "outputs": [
        {
          "output_type": "stream",
          "name": "stdout",
          "text": [
            "['1', 30, '2', '3', '4', '5', '6', '7', '8', '9', '10']\n"
          ]
        }
      ]
    },
    {
      "cell_type": "markdown",
      "source": [
        "4. Write a Python program to reverse the order of the items in the array.Original array: numbers = [5, 4, 3, 2, 1]"
      ],
      "metadata": {
        "id": "5wNf_SFfgnZb"
      }
    },
    {
      "cell_type": "code",
      "source": [
        "integers = [\"1\", \"2\", \"3\", \"4\", \"5\", \"6\", \"7\", \"8\", \"9\", \"10\"]\n",
        "integers.reverse()\n",
        "print(integers)"
      ],
      "metadata": {
        "colab": {
          "base_uri": "https://localhost:8080/"
        },
        "id": "PxD4gcpMgpP5",
        "outputId": "3bf27520-f051-4ee2-a81d-4551dca68feb"
      },
      "execution_count": 5,
      "outputs": [
        {
          "output_type": "stream",
          "name": "stdout",
          "text": [
            "['10', '9', '8', '7', '6', '5', '4', '3', '2', '1']\n"
          ]
        }
      ]
    },
    {
      "cell_type": "markdown",
      "source": [
        "5. Write a Python program to get the length of the array. Original array: numbers = [5, 4, 3, 2, 1]\n"
      ],
      "metadata": {
        "id": "J9kpTVYngt3K"
      }
    },
    {
      "cell_type": "code",
      "source": [
        "integers = [\"1\", \"2\", \"3\", \"4\", \"5\", \"6\", \"7\", \"8\", \"9\", \"10\"]\n",
        "x = len(integers)\n",
        "print(x)"
      ],
      "metadata": {
        "colab": {
          "base_uri": "https://localhost:8080/"
        },
        "id": "XYEZJ2dwgwY6",
        "outputId": "b76ab803-a58d-4eaa-a7f9-d59b889dab94"
      },
      "execution_count": 7,
      "outputs": [
        {
          "output_type": "stream",
          "name": "stdout",
          "text": [
            "10\n"
          ]
        }
      ]
    }
  ]
}