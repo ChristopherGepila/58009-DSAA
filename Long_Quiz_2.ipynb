{
  "nbformat": 4,
  "nbformat_minor": 0,
  "metadata": {
    "colab": {
      "provenance": [],
      "authorship_tag": "ABX9TyP0dsSQEst50oPjVTBjPqx9",
      "include_colab_link": true
    },
    "kernelspec": {
      "name": "python3",
      "display_name": "Python 3"
    },
    "language_info": {
      "name": "python"
    }
  },
  "cells": [
    {
      "cell_type": "markdown",
      "metadata": {
        "id": "view-in-github",
        "colab_type": "text"
      },
      "source": [
        "<a href=\"https://colab.research.google.com/github/ChristopherGepila/58009-DSAA/blob/main/Long_Quiz_2.ipynb\" target=\"_parent\"><img src=\"https://colab.research.google.com/assets/colab-badge.svg\" alt=\"Open In Colab\"/></a>"
      ]
    },
    {
      "cell_type": "code",
      "execution_count": 5,
      "metadata": {
        "colab": {
          "base_uri": "https://localhost:8080/"
        },
        "id": "Vm_agxZIpMI_",
        "outputId": "d7728c91-e6a5-49cc-c9e5-6e3735c27242"
      },
      "outputs": [
        {
          "output_type": "stream",
          "name": "stdout",
          "text": [
            "[{'E', 'I'}, {'E', 'J'}, {'E', 'K'}, {'E', 'M'}, {'I', 'F'}, {'F', 'J'}, {'K', 'F'}, {'F', 'P'}, {'I', 'H'}, {'J', 'H'}, {'K', 'H'}]\n"
          ]
        }
      ],
      "source": [
        "#Display all Edges\n",
        "\n",
        "class graph:\n",
        "  def __init__(self,gdict=None):\n",
        "    if gdict is None:\n",
        "      gdict = {}\n",
        "    self.gdict = gdict\n",
        "\n",
        "  def edges(self):\n",
        "    return self.findedges()\n",
        "# Find the distinct list of edges\n",
        "  def findedges(self):\n",
        "    edgename = []\n",
        "    for vrtx in self.gdict:\n",
        "      for nxtvrtx in self.gdict[vrtx]:\n",
        "        if {nxtvrtx, vrtx} not in edgename:\n",
        "          edgename.append({vrtx, nxtvrtx})\n",
        "    return edgename\n",
        "\n",
        "# Create the dictionary with graph elements\n",
        "graph_elements = {\n",
        "    \"E\" : ['I','J','K','M'],\n",
        "    \"F\" : ['I','J','K','P'],\n",
        "    \"H\" : ['I','J','K'],\n",
        "    \"I\" : ['E','F','H'],\n",
        "    \"J\" : ['E','F','H'],\n",
        "    \"K\" : ['E','F','H'],\n",
        "    \"M\" : ['E'],\n",
        "    \"P\" : ['F']\n",
        "\n",
        "}\n",
        "g = graph(graph_elements)\n",
        "print(g.edges())"
      ]
    },
    {
      "cell_type": "code",
      "source": [
        "#Display Graph Vertices\n",
        "\n",
        "class graph:\n",
        "  def __init__(self,gdict=None):\n",
        "    if gdict is None:\n",
        "      gdict = []\n",
        "    self.gdict = gdict\n",
        "# Get the keys of the dictionary\n",
        "  def getVertices(self):\n",
        "    return list(self.gdict.keys())\n",
        "# Create the dictionary with graph elements\n",
        "graph_elements = {\n",
        "   \"E\" : ['I','J','K','M'],\n",
        "    \"F\" : ['I','J','K','P'],\n",
        "    \"H\" : ['I','J','K'],\n",
        "    \"I\" : ['E','F','H'],\n",
        "    \"J\" : ['E','F','H'],\n",
        "    \"K\" : ['E','F','H'],\n",
        "    \"M\" : ['E'],\n",
        "    \"P\" : ['F']\n",
        "}\n",
        "g = graph(graph_elements)\n",
        "print(g.getVertices())"
      ],
      "metadata": {
        "colab": {
          "base_uri": "https://localhost:8080/"
        },
        "id": "v97uy8YUp4hA",
        "outputId": "dd68b62b-21db-4273-bea4-9f7bfa2ae7ae"
      },
      "execution_count": 4,
      "outputs": [
        {
          "output_type": "stream",
          "name": "stdout",
          "text": [
            "['E', 'F', 'H', 'I', 'J', 'K', 'M', 'P']\n"
          ]
        }
      ]
    }
  ]
}