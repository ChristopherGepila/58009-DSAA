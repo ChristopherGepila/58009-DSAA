{
  "nbformat": 4,
  "nbformat_minor": 0,
  "metadata": {
    "colab": {
      "provenance": [],
      "authorship_tag": "ABX9TyMDPYYZGK2JNXSCcsyX9vNm",
      "include_colab_link": true
    },
    "kernelspec": {
      "name": "python3",
      "display_name": "Python 3"
    },
    "language_info": {
      "name": "python"
    }
  },
  "cells": [
    {
      "cell_type": "markdown",
      "metadata": {
        "id": "view-in-github",
        "colab_type": "text"
      },
      "source": [
        "<a href=\"https://colab.research.google.com/github/ChristopherGepila/58009-DSAA/blob/main/midterm_exam.ipynb\" target=\"_parent\"><img src=\"https://colab.research.google.com/assets/colab-badge.svg\" alt=\"Open In Colab\"/></a>"
      ]
    },
    {
      "cell_type": "code",
      "execution_count": 5,
      "metadata": {
        "colab": {
          "base_uri": "https://localhost:8080/"
        },
        "id": "aWZLzKIoHwWS",
        "outputId": "241efe6b-62f1-45a1-b34c-9909d506a1b4"
      },
      "outputs": [
        {
          "output_type": "stream",
          "name": "stdout",
          "text": [
            "[{'B', 'A'}, {'E', 'B'}, {'B', 'C'}, {'B', 'F'}, {'C', 'D'}, {'E', 'C'}, {'F', 'C'}, {'I', 'C'}, {'C', 'M'}, {'L', 'D'}, {'D', 'K'}, {'E', 'M'}, {'E', 'N'}, {'I', 'F'}, {'G', 'F'}, {'G', 'I'}, {'G', 'J'}, {'I', 'J'}, {'I', 'K'}, {'J', 'K'}, {'L', 'M'}, {'P', 'L'}, {'N', 'M'}, {'O', 'M'}, {'P', 'M'}, {'O', 'N'}, {'P', 'O'}]\n"
          ]
        }
      ],
      "source": [
        "class graph:\n",
        "  def __init__(self,gdict=None):\n",
        "    if gdict is None:\n",
        "      gdict = {}\n",
        "    self.gdict = gdict\n",
        "\n",
        "  def edges(self):\n",
        "    return self.findedges()\n",
        "# Find the distinct list of edges\n",
        "  def findedges(self):\n",
        "    edgename = []\n",
        "    for vrtx in self.gdict:\n",
        "      for nxtvrtx in self.gdict[vrtx]:\n",
        "        if {nxtvrtx, vrtx} not in edgename:\n",
        "          edgename.append({vrtx, nxtvrtx})\n",
        "    return edgename\n",
        "\n",
        "# Create the dictionary with graph elements\n",
        "graph_elements = {\n",
        "    'A': ['B'],\n",
        "    'B': ['A','E','C','F'],\n",
        "    'C': ['B','D','E','F','I','M'],\n",
        "    'D': ['C','L','K'],\n",
        "    'E': ['C','B','M','N'],\n",
        "    'F': ['B','C','I','G'],\n",
        "    'G': ['F','I','J'],\n",
        "    'I': ['C', 'F','G','J','K'],\n",
        "    'J': ['G','I','K'],\n",
        "    'K': ['D','I','J'],\n",
        "    'L': ['D','M','P'],\n",
        "    'M': ['C','L','N','O','P'],\n",
        "    'N': ['E','M','O'],\n",
        "    'O': ['M','N','P'],\n",
        "    'P': ['L','M','O']\n",
        "}\n",
        "g = graph(graph_elements)\n",
        "print(g.edges())"
      ]
    },
    {
      "cell_type": "code",
      "source": [
        "class graph:\n",
        "  def __init__(self,gdict=None):\n",
        "    if gdict is None:\n",
        "      gdict = []\n",
        "    self.gdict = gdict\n",
        "# Get the keys of the dictionary\n",
        "  def getVertices(self):\n",
        "    return list(self.gdict.keys())\n",
        "# Create the dictionary with graph elements\n",
        "graph_elements = {\n",
        "    'A': ['B'],\n",
        "    'B': ['A','E','C','F'],\n",
        "    'C': ['B','D','E','F','I','M'],\n",
        "    'D': ['C','L','K'],\n",
        "    'E': ['C','B','M','N'],\n",
        "    'F': ['B','C','I','G'],\n",
        "    'G': ['F','I','J'],\n",
        "    'I': ['C', 'F','G','J','K'],\n",
        "    'J': ['G','I','K'],\n",
        "    'K': ['D','I','J'],\n",
        "    'L': ['D','M','P'],\n",
        "    'M': ['C','L','N','O','P'],\n",
        "    'N': ['E','M','O'],\n",
        "    'O': ['M','N','P'],\n",
        "    'P': ['L','M','O']\n",
        "}\n",
        "g = graph(graph_elements)\n",
        "print(g.getVertices())"
      ],
      "metadata": {
        "colab": {
          "base_uri": "https://localhost:8080/"
        },
        "id": "LSmWn0U1Sfqh",
        "outputId": "fff17f94-3d59-4c94-f436-e44fa8d580eb"
      },
      "execution_count": 6,
      "outputs": [
        {
          "output_type": "stream",
          "name": "stdout",
          "text": [
            "['A', 'B', 'C', 'D', 'E', 'F', 'G', 'I', 'J', 'K', 'L', 'M', 'N', 'O', 'P']\n"
          ]
        }
      ]
    }
  ]
}